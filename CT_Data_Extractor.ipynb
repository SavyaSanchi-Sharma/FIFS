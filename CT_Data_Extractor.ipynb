{
 "cells": [
  {
   "cell_type": "code",
   "execution_count": 1,
   "metadata": {},
   "outputs": [],
   "source": [
    "import pandas as pd"
   ]
  },
  {
   "cell_type": "code",
   "execution_count": 3,
   "metadata": {},
   "outputs": [],
   "source": [
    "# Load the Excel file\n",
    "excel_file_path = 'CT_SquadData_AllTeams.xlsx'\n",
    "df = pd.read_excel(excel_file_path)\n",
    "\n",
    "# Save the DataFrame to a CSV file\n",
    "csv_file_path = 'CT_SquadData_AllTeams.csv'\n",
    "df.to_csv(csv_file_path, index=False)"
   ]
  },
  {
   "cell_type": "code",
   "execution_count": 5,
   "metadata": {},
   "outputs": [],
   "source": [
    "squad_df = pd.read_csv('CT_SquadData_AllTeams.csv')\n",
    "whole_data_df = pd.read_csv('WholeData.csv')\n",
    "\n",
    "# Function to match player names\n",
    "def match_player_name(squad_name, whole_data_names):\n",
    "    squad_name_parts = squad_name.split()\n",
    "    last_name = squad_name_parts[-1]\n",
    "    first_initial = squad_name_parts[0][0]\n",
    "    middle_initial = squad_name_parts[1][0] if len(squad_name_parts) > 2 else ''\n",
    "    \n",
    "    for name in whole_data_names:\n",
    "        name_parts = name.split()\n",
    "        if len(name_parts) > 1 and name_parts[-1] == last_name:\n",
    "            if name_parts[0][0] == first_initial and (middle_initial == '' or name_parts[1][0] == middle_initial):\n",
    "                return name\n",
    "    return None\n",
    "\n",
    "# Apply the matching function\n",
    "squad_df['MatchedName'] = squad_df['Player Name'].apply(lambda x: match_player_name(x, whole_data_df['Player'].tolist()))\n",
    "\n",
    "# Merge the DataFrames\n",
    "merged_df = pd.merge(squad_df, whole_data_df, left_on='MatchedName', right_on='Player', how='inner')\n",
    "\n",
    "# Select and reorder columns\n",
    "final_df = merged_df[['Credits', 'Player Type', 'Player Name', 'Team_x', 'MatchID', 'Stadium', 'Runs', 'Balls', 'Dismissals', 'StrikeRate', 'Economy', 'Runs Conceded', 'Balls Bowled', 'Wickets', 'Catches', 'Stumpings', 'RunOuts', 'Extras']]\n",
    "#final_df.rename(columns={'Team_x': 'Team'}, inplace=True)\n",
    "\n",
    "# Save the final DataFrame to a new CSV file\n",
    "final_df.to_csv('Merged_Player_Data.csv', index=False)"
   ]
  }
 ],
 "metadata": {
  "kernelspec": {
   "display_name": "fifs_env",
   "language": "python",
   "name": "python3"
  },
  "language_info": {
   "codemirror_mode": {
    "name": "ipython",
    "version": 3
   },
   "file_extension": ".py",
   "mimetype": "text/x-python",
   "name": "python",
   "nbconvert_exporter": "python",
   "pygments_lexer": "ipython3",
   "version": "3.12.2"
  }
 },
 "nbformat": 4,
 "nbformat_minor": 2
}
