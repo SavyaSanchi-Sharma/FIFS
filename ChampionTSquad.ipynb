{
 "cells": [
  {
   "cell_type": "code",
   "execution_count": 1,
   "metadata": {},
   "outputs": [],
   "source": [
    "import pandas as pd "
   ]
  },
  {
   "cell_type": "code",
   "execution_count": 2,
   "metadata": {},
   "outputs": [],
   "source": [
    "Bangladesh = [\n",
    "    [\"Najmul Hossain Shanto\", \"Captain, Batter\", \"Bangladesh\"],\n",
    "    [\"Soumya Sarkar\", \"Batter\", \"Bangladesh\"],\n",
    "    [\"Tanzid Hasan\", \"Batter\", \"Bangladesh\"],\n",
    "    [\"Towhid Hridoy\", \"Batter\", \"Bangladesh\"],\n",
    "    [\"Mushfiqur Rahim\", \"Wicketkeeper\", \"Bangladesh\"],\n",
    "    [\"Mahmudullah\", \"All-rounder\", \"Bangladesh\"],\n",
    "    [\"Jaker Ali Anik\", \"Wicketkeeper\", \"Bangladesh\"],\n",
    "    [\"Mehidy Hasan Miraz\", \"All-rounder\", \"Bangladesh\"],\n",
    "    [\"Rishad Hossain\", \"Bowler\", \"Bangladesh\"],\n",
    "    [\"Taskin Ahmed\", \"Bowler\", \"Bangladesh\"],\n",
    "    [\"Mustafizur Rahman\", \"Bowler\", \"Bangladesh\"],\n",
    "    [\"Parvez Hossain Emon\", \"Batter\", \"Bangladesh\"],\n",
    "    [\"Nasum Ahmed\", \"Bowler\", \"Bangladesh\"],\n",
    "    [\"Tanzim Hasan Sakib\", \"Bowler\", \"Bangladesh\"],\n",
    "    [\"Nahid Rana\", \"Bowler\", \"Bangladesh\"]\n",
    "]"
   ]
  },
  {
   "cell_type": "code",
   "execution_count": 3,
   "metadata": {},
   "outputs": [],
   "source": [
    "india = [\n",
    "    [\"Rohit Sharma\", \"Captain, Batter\", \"India\"],\n",
    "    [\"Shubman Gill\", \"Vice-captain, Batter\", \"India\"],\n",
    "    [\"Virat Kohli\", \"Batter\", \"India\"],\n",
    "    [\"Shreyas Iyer\", \"Batter\", \"India\"],\n",
    "    [\"KL Rahul\", \"Wicketkeeper\", \"India\"],\n",
    "    [\"Rishabh Pant\", \"Wicketkeeper\", \"India\"],\n",
    "    [\"Hardik Pandya\", \"All-rounder\", \"India\"],\n",
    "    [\"Axar Patel\", \"All-rounder\", \"India\"],\n",
    "    [\"Washington Sundar\", \"All-rounder\", \"India\"],\n",
    "    [\"Kuldeep Yadav\", \"Bowler\", \"India\"],\n",
    "    [\"Harshit Rana\", \"Bowler\", \"India\"],\n",
    "    [\"Mohammed Shami\", \"Bowler\", \"India\"],\n",
    "    [\"Arshdeep Singh\", \"Bowler\", \"India\"],\n",
    "    [\"Ravindra Jadeja\", \"All-rounder\", \"India\"],\n",
    "    [\"Varun Chakaravarthy\", \"Bowler\", \"India\"]\n",
    "]"
   ]
  },
  {
   "cell_type": "code",
   "execution_count": 4,
   "metadata": {},
   "outputs": [],
   "source": [
    "pakistan = [\n",
    "    [\"Mohammad Rizwan\", \"Captain, Wicketkeeper\", \"Pakistan\"],\n",
    "    [\"Salman Ali Agha\", \"Vice-captain, Batter\", \"Pakistan\"],\n",
    "    [\"Shaheen Afridi\", \"Bowler\", \"Pakistan\"],\n",
    "    [\"Abrar Ahmed\", \"Bowler\", \"Pakistan\"],\n",
    "    [\"Faheem Ashraf\", \"All-rounder\", \"Pakistan\"],\n",
    "    [\"Babar Azam\", \"Batter\", \"Pakistan\"],\n",
    "    [\"Kamran Ghulam\", \"Batter\", \"Pakistan\"],\n",
    "    [\"Mohammad Hasnain\", \"Bowler\", \"Pakistan\"],\n",
    "    [\"Usman Khan\", \"Batter\", \"Pakistan\"],\n",
    "    [\"Haris Rauf\", \"Bowler\", \"Pakistan\"],\n",
    "    [\"Khushdil Shah\", \"Batter\", \"Pakistan\"],\n",
    "    [\"Naseem Shah\", \"Bowler\", \"Pakistan\"],\n",
    "    [\"Saud Shakeel\", \"Batter\", \"Pakistan\"],\n",
    "    [\"Tayyab Tahir\", \"Batter\", \"Pakistan\"],\n",
    "    [\"Fakhar Zaman\", \"Batter\", \"Pakistan\"]\n",
    "]"
   ]
  },
  {
   "cell_type": "code",
   "execution_count": 5,
   "metadata": {},
   "outputs": [],
   "source": [
    "nz = [\n",
    "    [\"Kane Williamson\", \"Captain, Batter\", \"New Zealand\"],\n",
    "    [\"Tom Blundell\", \"Wicketkeeper\", \"New Zealand\"],\n",
    "    [\"Devon Conway\", \"Batter\", \"New Zealand\"],\n",
    "    [\"Lockie Ferguson\", \"Bowler\", \"New Zealand\"],\n",
    "    [\"Matt Henry\", \"Bowler\", \"New Zealand\"],\n",
    "    [\"Tom Latham\", \"Wicketkeeper\", \"New Zealand\"],\n",
    "    [\"Daryl Mitchell\", \"All-rounder\", \"New Zealand\"],\n",
    "    [\"Adam Milne\", \"Bowler\", \"New Zealand\"],\n",
    "    [\"Glenn Phillips\", \"Batter\", \"New Zealand\"],\n",
    "    [\"Rachin Ravindra\", \"All-rounder\", \"New Zealand\"],\n",
    "    [\"Mitchell Santner\", \"All-rounder\", \"New Zealand\"],\n",
    "    [\"Ish Sodhi\", \"Bowler\", \"New Zealand\"],\n",
    "    [\"Tim Southee\", \"Bowler\", \"New Zealand\"],\n",
    "    [\"Will Young\", \"Batter\", \"New Zealand\"],\n",
    "    [\"Mark Chapman\", \"Batter\", \"New Zealand\"]\n",
    "]\n"
   ]
  },
  {
   "cell_type": "code",
   "execution_count": 6,
   "metadata": {},
   "outputs": [],
   "source": [
    "aus = [\n",
    "    [\"Steve Smith\", \"Captain, Batter\", \"Australia\"],\n",
    "    [\"Sean Abbott\", \"Bowler\", \"Australia\"],\n",
    "    [\"Alex Carey\", \"Wicketkeeper\", \"Australia\"],\n",
    "    [\"Ben Dwarshuis\", \"Bowler\", \"Australia\"],\n",
    "    [\"Nathan Ellis\", \"Bowler\", \"Australia\"],\n",
    "    [\"Jake Fraser-McGurk\", \"Batter\", \"Australia\"],\n",
    "    [\"Aaron Hardie\", \"All-rounder\", \"Australia\"],\n",
    "    [\"Travis Head\", \"Batter\", \"Australia\"],\n",
    "    [\"Josh Inglis\", \"Wicketkeeper\", \"Australia\"],\n",
    "    [\"Spencer Johnson\", \"Bowler\", \"Australia\"],\n",
    "    [\"Marnus Labuschagne\", \"Batter\", \"Australia\"],\n",
    "    [\"Glenn Maxwell\", \"All-rounder\", \"Australia\"],\n",
    "    [\"Tanveer Sangha\", \"Bowler\", \"Australia\"],\n",
    "    [\"Matthew Short\", \"All-rounder\", \"Australia\"],\n",
    "    [\"Adam Zampa\", \"Bowler\", \"Australia\"]\n",
    "]"
   ]
  },
  {
   "cell_type": "code",
   "execution_count": 7,
   "metadata": {},
   "outputs": [],
   "source": [
    "england = [\n",
    "    [\"Jos Buttler\", \"Captain, Wicketkeeper\", \"England\"],\n",
    "    [\"Moeen Ali\", \"All-rounder\", \"England\"],\n",
    "    [\"Tom Banton\", \"Batter\", \"England\"],\n",
    "    [\"Sam Billings\", \"Wicketkeeper\", \"England\"],\n",
    "    [\"Harry Brook\", \"Batter\", \"England\"],\n",
    "    [\"Brydon Carse\", \"Bowler\", \"England\"],\n",
    "    [\"Ben Duckett\", \"Batter\", \"England\"],\n",
    "    [\"Liam Livingstone\", \"All-rounder\", \"England\"],\n",
    "    [\"Dawid Malan\", \"Batter\", \"England\"],\n",
    "    [\"Joe Root\", \"Batter\", \"England\"],\n",
    "    [\"Adil Rashid\", \"Bowler\", \"England\"],\n",
    "    [\"Phil Salt\", \"Wicketkeeper\", \"England\"],\n",
    "    [\"Reece Topley\", \"Bowler\", \"England\"],\n",
    "    [\"David Willey\", \"All-rounder\", \"England\"],\n",
    "    [\"Mark Wood\", \"Bowler\", \"England\"]\n",
    "]"
   ]
  },
  {
   "cell_type": "code",
   "execution_count": 8,
   "metadata": {},
   "outputs": [],
   "source": [
    "sa = [\n",
    "    [\"Temba Bavuma\", \"Captain, Batter\", \"South Africa\"],\n",
    "    [\"Quinton de Kock\", \"Wicketkeeper\", \"South Africa\"],\n",
    "    [\"Reeza Hendricks\", \"Batter\", \"South Africa\"],\n",
    "    [\"Heinrich Klaasen\", \"Wicketkeeper\", \"South Africa\"],\n",
    "    [\"Keshav Maharaj\", \"Bowler\", \"South Africa\"],\n",
    "    [\"Aiden Markram\", \"All-rounder\", \"South Africa\"],\n",
    "    [\"David Miller\", \"Batter\", \"South Africa\"],\n",
    "    [\"Lungi Ngidi\", \"Bowler\", \"South Africa\"],\n",
    "    [\"Anrich Nortje\", \"Bowler\", \"South Africa\"],\n",
    "    [\"Wayne Parnell\", \"All-rounder\", \"South Africa\"],\n",
    "    [\"Andile Phehlukwayo\", \"All-rounder\", \"South Africa\"],\n",
    "    [\"Kagiso Rabada\", \"Bowler\", \"South Africa\"],\n",
    "    [\"Tabraiz Shamsi\", \"Bowler\", \"South Africa\"],\n",
    "    [\"Rassie van der Dussen\", \"Batter\", \"South Africa\"],\n",
    "    [\"Marco Jansen\", \"All-rounder\", \"South Africa\"]\n",
    "]"
   ]
  },
  {
   "cell_type": "code",
   "execution_count": 9,
   "metadata": {},
   "outputs": [],
   "source": [
    "afghanistan = [\n",
    "    [\"Hashmatullah Shahidi\", \"Captain, Batter\", \"Afghanistan\"],\n",
    "    [\"Ibrahim Zadran\", \"Batter\", \"Afghanistan\"],\n",
    "    [\"Rahmanullah Gurbaz\", \"Wicketkeeper\", \"Afghanistan\"],\n",
    "    [\"Sediqullah Atal\", \"Batter\", \"Afghanistan\"],\n",
    "    [\"Rahmat Shah\", \"Batter\", \"Afghanistan\"],\n",
    "    [\"Ikram Alikhil\", \"Wicketkeeper\", \"Afghanistan\"],\n",
    "    [\"Gulbadin Naib\", \"All-rounder\", \"Afghanistan\"],\n",
    "    [\"Azmatullah Omarzai\", \"All-rounder\", \"Afghanistan\"],\n",
    "    [\"Mohammad Nabi\", \"All-rounder\", \"Afghanistan\"],\n",
    "    [\"Rashid Khan\", \"Bowler\", \"Afghanistan\"],\n",
    "    [\"Nangyal Kharoti\", \"All-rounder\", \"Afghanistan\"],\n",
    "    [\"Noor Ahmad\", \"Bowler\", \"Afghanistan\"]\n",
    "]"
   ]
  },
  {
   "cell_type": "code",
   "execution_count": 10,
   "metadata": {},
   "outputs": [
    {
     "data": {
      "text/html": [
       "<div>\n",
       "<style scoped>\n",
       "    .dataframe tbody tr th:only-of-type {\n",
       "        vertical-align: middle;\n",
       "    }\n",
       "\n",
       "    .dataframe tbody tr th {\n",
       "        vertical-align: top;\n",
       "    }\n",
       "\n",
       "    .dataframe thead th {\n",
       "        text-align: right;\n",
       "    }\n",
       "</style>\n",
       "<table border=\"1\" class=\"dataframe\">\n",
       "  <thead>\n",
       "    <tr style=\"text-align: right;\">\n",
       "      <th></th>\n",
       "      <th>Player</th>\n",
       "      <th>Role</th>\n",
       "      <th>Country</th>\n",
       "    </tr>\n",
       "  </thead>\n",
       "  <tbody>\n",
       "    <tr>\n",
       "      <th>0</th>\n",
       "      <td>Najmul Hossain Shanto</td>\n",
       "      <td>Captain, Batter</td>\n",
       "      <td>Bangladesh</td>\n",
       "    </tr>\n",
       "    <tr>\n",
       "      <th>1</th>\n",
       "      <td>Soumya Sarkar</td>\n",
       "      <td>Batter</td>\n",
       "      <td>Bangladesh</td>\n",
       "    </tr>\n",
       "    <tr>\n",
       "      <th>2</th>\n",
       "      <td>Tanzid Hasan</td>\n",
       "      <td>Batter</td>\n",
       "      <td>Bangladesh</td>\n",
       "    </tr>\n",
       "    <tr>\n",
       "      <th>3</th>\n",
       "      <td>Towhid Hridoy</td>\n",
       "      <td>Batter</td>\n",
       "      <td>Bangladesh</td>\n",
       "    </tr>\n",
       "    <tr>\n",
       "      <th>4</th>\n",
       "      <td>Mushfiqur Rahim</td>\n",
       "      <td>Wicketkeeper</td>\n",
       "      <td>Bangladesh</td>\n",
       "    </tr>\n",
       "  </tbody>\n",
       "</table>\n",
       "</div>"
      ],
      "text/plain": [
       "                  Player             Role     Country\n",
       "0  Najmul Hossain Shanto  Captain, Batter  Bangladesh\n",
       "1          Soumya Sarkar           Batter  Bangladesh\n",
       "2           Tanzid Hasan           Batter  Bangladesh\n",
       "3          Towhid Hridoy           Batter  Bangladesh\n",
       "4        Mushfiqur Rahim     Wicketkeeper  Bangladesh"
      ]
     },
     "execution_count": 10,
     "metadata": {},
     "output_type": "execute_result"
    }
   ],
   "source": [
    "data= pd.DataFrame(Bangladesh + india + pakistan + nz + aus + england + sa + afghanistan, columns=[\"Player\", \"Role\", \"Country\"])\n",
    "data.head()"
   ]
  }
 ],
 "metadata": {
  "kernelspec": {
   "display_name": "myenv",
   "language": "python",
   "name": "python3"
  },
  "language_info": {
   "codemirror_mode": {
    "name": "ipython",
    "version": 3
   },
   "file_extension": ".py",
   "mimetype": "text/x-python",
   "name": "python",
   "nbconvert_exporter": "python",
   "pygments_lexer": "ipython3",
   "version": "3.13.2"
  }
 },
 "nbformat": 4,
 "nbformat_minor": 2
}
